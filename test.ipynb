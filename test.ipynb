{
 "cells": [
  {
   "cell_type": "code",
   "execution_count": 21,
   "metadata": {
    "collapsed": true
   },
   "outputs": [],
   "source": [
    "def interseccion(postList1, postList2):\n",
    "    returndata = []\n",
    "    i = 0\n",
    "    j = 0\n",
    "    while i<len(postList1) and j < len(postList2):\n",
    "        #TODO la intersección debe ser por noticia o por documento, de ser por noticia faltaria añadir alguna condición...\n",
    "        if postList1[i][0] == postList2[j][0] and postList1[i][1] == postList2[j][1]:\n",
    "            returndata.append(postList1[i])\n",
    "            i+=1\n",
    "            j+=1\n",
    "        elif postList1[i][0] > postList2[j][0] or postList1[i][1] > postList2[j][1]  :\n",
    "            j+=1\n",
    "        else:\n",
    "            i+=1\n",
    "    return returndata\n"
   ]
  },
  {
   "cell_type": "code",
   "execution_count": 25,
   "metadata": {},
   "outputs": [
    {
     "data": {
      "text/plain": [
       "[(1, 2), (2, 4), (3, 2)]"
      ]
     },
     "execution_count": 25,
     "metadata": {},
     "output_type": "execute_result"
    }
   ],
   "source": [
    "p =[(1,2),(2,2),(2,4),(3,2)]\n",
    "t = [(1,2),(2,1),(2,4), (3,1),(3,2)]\n",
    "interseccion(p,t)"
   ]
  },
  {
   "cell_type": "code",
   "execution_count": null,
   "metadata": {
    "collapsed": true
   },
   "outputs": [],
   "source": []
  }
 ],
 "metadata": {
  "kernelspec": {
   "display_name": "Python 3",
   "language": "python",
   "name": "python3"
  },
  "language_info": {
   "codemirror_mode": {
    "name": "ipython",
    "version": 3
   },
   "file_extension": ".py",
   "mimetype": "text/x-python",
   "name": "python",
   "nbconvert_exporter": "python",
   "pygments_lexer": "ipython3",
   "version": "3.6.1"
  }
 },
 "nbformat": 4,
 "nbformat_minor": 2
}
