{
 "cells": [
  {
   "cell_type": "code",
   "execution_count": 2,
   "metadata": {
    "collapsed": true
   },
   "outputs": [],
   "source": [
    "def interseccion(postList1, postList2):\n",
    "    returndata = []\n",
    "    i = 0\n",
    "    j = 0\n",
    "    while i<len(postList1) and j < len(postList2):\n",
    "        #TODO hacer testing\n",
    "        if postList1[i][0] == postList2[j][0] and postList1[i][1] == postList2[j][1]:\n",
    "            returndata.append(postList1[i])\n",
    "            i+=1\n",
    "            j+=1\n",
    "        elif postList1[i][0] == postList2[j][0] and postList1[i][1] < postList2[j][1] or postList1[i][0] < postList2[j][0] :\n",
    "            i+=1\n",
    "        elif postList1[i][0] == postList2[j][0] and postList1[i][1] > postList2[j][1] or postList1[i][0] > postList2[j][0]:\n",
    "            j+=1\n",
    "    return returndata\n"
   ]
  },
  {
   "cell_type": "code",
   "execution_count": 3,
   "metadata": {
    "collapsed": true
   },
   "outputs": [],
   "source": [
    "def orAlg(postList1,postList2):\n",
    "    \"\"\"\n",
    "    Devuelve una lista con los resultados de la operación postList1 or postList2\n",
    "    \"\"\"\n",
    "    returndata = []\n",
    "    i = 0\n",
    "    j = 0\n",
    "    while i<len(postList1) and j < len(postList2):\n",
    "        #TODO hacer testing\n",
    "        if postList1[i][0] == postList2[j][0] and postList1[i][1] == postList2[j][1]:\n",
    "            returndata.append(postList1[i])\n",
    "            i+=1\n",
    "            j+=1\n",
    "        elif postList1[i][0] == postList2[j][0] and postList1[i][1] < postList2[j][1] or postList1[i][0] < postList2[j][0] :\n",
    "            returndata.append(postList1[i])\n",
    "            i+=1\n",
    "        elif postList1[i][0] == postList2[j][0] and postList1[i][1] > postList2[j][1] or postList1[i][0] > postList2[j][0]:\n",
    "            returndata.append(postList2[j])\n",
    "            j+=1\n",
    "    for iPost1 in range(i,len(postList1)) :\n",
    "        returndata.append(postList1[iPost1])\n",
    "    for iPost2 in range(j,len(postList2)) :\n",
    "        returndata.append(postList2[iPost2]) \n",
    "    return returndata"
   ]
  },
  {
   "cell_type": "code",
   "execution_count": 10,
   "metadata": {
    "collapsed": true
   },
   "outputs": [],
   "source": [
    "def andNotAlg(postList1,postList2):\n",
    "    \"\"\"\n",
    "    Devuelve una lista con los resultados de la operación postList1 and not postList2\n",
    "    \"\"\"\n",
    "    returndata = []\n",
    "    i = 0\n",
    "    j = 0\n",
    "    while i<len(postList1) and j < len(postList2):\n",
    "        if postList1[i][0] == postList2[j][0] and postList1[i][1] == postList2[j][1]:\n",
    "            i+=1\n",
    "            j+=1\n",
    "        elif postList1[i][0] == postList2[j][0] and postList1[i][1] < postList2[j][1] or postList1[i][0] < postList2[j][0] :\n",
    "            returndata.append(postList1[i])\n",
    "            i+=1\n",
    "        else:\n",
    "            j+=1\n",
    "    for iPost1 in range(i,len(postList1)):\n",
    "        returndata.append(postList1[iPost1])\n",
    "    return returndata"
   ]
  },
  {
   "cell_type": "code",
   "execution_count": 11,
   "metadata": {},
   "outputs": [
    {
     "data": {
      "text/plain": [
       "[(1, 2), (2, 2), (4, 2), (5, 5)]"
      ]
     },
     "execution_count": 11,
     "metadata": {},
     "output_type": "execute_result"
    }
   ],
   "source": [
    "p =[(1,2),(2,2),(2,3),(3,2),(4,2),(4,3),(4,4),(5,5)]\n",
    "t = [(1,3),(2,3),(3,2),(4,3),(4,4)]\n",
    "andNotAlg(p,t)"
   ]
  },
  {
   "cell_type": "code",
   "execution_count": null,
   "metadata": {
    "collapsed": true
   },
   "outputs": [],
   "source": []
  }
 ],
 "metadata": {
  "kernelspec": {
   "display_name": "Python 3",
   "language": "python",
   "name": "python3"
  },
  "language_info": {
   "codemirror_mode": {
    "name": "ipython",
    "version": 3
   },
   "file_extension": ".py",
   "mimetype": "text/x-python",
   "name": "python",
   "nbconvert_exporter": "python",
   "pygments_lexer": "ipython3",
   "version": "3.6.1"
  }
 },
 "nbformat": 4,
 "nbformat_minor": 2
}
